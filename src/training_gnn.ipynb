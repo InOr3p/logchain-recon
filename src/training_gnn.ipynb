{
  "cells": [
    {
      "cell_type": "code",
      "execution_count": 1,
      "id": "bafb102e",
      "metadata": {
        "colab": {
          "base_uri": "https://localhost:8080/"
        },
        "id": "bafb102e",
        "outputId": "7df162be-87da-441c-d293-8af0dc4b1781"
      },
      "outputs": [],
      "source": [
        "!pip install torch_geometric"
      ]
    },
    {
      "cell_type": "code",
      "execution_count": null,
      "id": "d58695c3",
      "metadata": {},
      "outputs": [],
      "source": [
        "# ======= Imports =======\n",
        "import os\n",
        "import glob\n",
        "import numpy as np\n",
        "import torch\n",
        "import torch.nn.functional as F\n",
        "from torch import nn\n",
        "from torch_geometric.data import Data, InMemoryDataset, DataLoader\n",
        "from torch_geometric.nn import SAGEConv, global_mean_pool\n",
        "from torch_geometric.utils import negative_sampling, to_undirected\n",
        "from sklearn.metrics import roc_auc_score, average_precision_score, precision_recall_fscore_support\n",
        "import networkx as nx"
      ]
    },
    {
      "cell_type": "code",
      "execution_count": null,
      "id": "95aa6006",
      "metadata": {},
      "outputs": [],
      "source": [
        "# ======= GraphDataset (loads .npz files) =======\n",
        "class NPZGraphDataset(InMemoryDataset):\n",
        "    \"\"\"\n",
        "    A simple InMemoryDataset that loads graphs saved as .npz files.\n",
        "    Each .npz must contain: 'node_feats' (N x D), 'edge_index' (2 x E), 'edge_label' (E,)\n",
        "    \"\"\"\n",
        "    def __init__(self, root, transform=None, pre_transform=None):\n",
        "        super().__init__(root, transform, pre_transform)\n",
        "        self.root = root\n",
        "        self.processed_dir = root  # we won't use processed save, just load on init\n",
        "        self.files = sorted(glob.glob(os.path.join(root, \"*.npz\")))\n",
        "        self.data_list = [self.load_npz(f) for f in self.files]\n",
        "\n",
        "    def len(self):\n",
        "        return len(self.data_list)\n",
        "\n",
        "    def get(self, idx):\n",
        "        return self.data_list[idx]\n",
        "\n",
        "    def load_npz(self, path):\n",
        "        arr = np.load(path)\n",
        "        if 'node_feats' not in arr or 'edge_index' not in arr:\n",
        "            raise ValueError(f\"Bad npz file {path}, expected keys 'node_feats' and 'edge_index'\")\n",
        "        x = torch.tensor(arr['node_feats'].astype(np.float32))\n",
        "        edge_index = torch.tensor(arr['edge_index'].astype(np.int64))\n",
        "        # ensure shape (2, E)\n",
        "        if edge_index.ndim == 1:\n",
        "            edge_index = edge_index.reshape(2, -1)\n",
        "        # edge labels optional\n",
        "        edge_label = torch.tensor(arr['edge_label'].astype(np.float32)) if 'edge_label' in arr else None\n",
        "        data = Data(x=x, edge_index=edge_index)\n",
        "        if edge_label is not None:\n",
        "            data.edge_label = edge_label\n",
        "        data.graph_id = os.path.basename(path)\n",
        "        return data\n",
        "\n",
        "# ======= GNN Link Predictor Model =======\n",
        "class GNNEncoder(nn.Module):\n",
        "    def __init__(self, in_channels, hidden_channels, num_layers=2, dropout=0.2):\n",
        "        super().__init__()\n",
        "        self.convs = nn.ModuleList()\n",
        "        self.convs.append(SAGEConv(in_channels, hidden_channels))\n",
        "        for _ in range(num_layers - 1):\n",
        "            self.convs.append(SAGEConv(hidden_channels, hidden_channels))\n",
        "        self.dropout = dropout\n",
        "\n",
        "    def forward(self, x, edge_index):\n",
        "        for conv in self.convs:\n",
        "            x = conv(x, edge_index)\n",
        "            x = F.relu(x)\n",
        "            x = F.dropout(x, p=self.dropout, training=self.training)\n",
        "        return x  # node embeddings\n",
        "\n",
        "class LinkPredictor(nn.Module):\n",
        "    def __init__(self, emb_dim, hidden_dim=128):\n",
        "        super().__init__()\n",
        "        # MLP that takes [z_i || z_j || z_i * z_j || |z_i - z_j|]\n",
        "        rep_dim = emb_dim * 4\n",
        "        self.mlp = nn.Sequential(\n",
        "            nn.Linear(rep_dim, hidden_dim),\n",
        "            nn.ReLU(),\n",
        "            nn.Dropout(0.2),\n",
        "            nn.Linear(hidden_dim, hidden_dim//2),\n",
        "            nn.ReLU(),\n",
        "            nn.Linear(hidden_dim//2, 1)  # logits\n",
        "        )\n",
        "\n",
        "    def forward(self, z_i, z_j):\n",
        "        # z_i, z_j: (E, D)\n",
        "        x1 = z_i\n",
        "        x2 = z_j\n",
        "        mult = x1 * x2\n",
        "        diff = torch.abs(x1 - x2)\n",
        "        cat = torch.cat([x1, x2, mult, diff], dim=1)\n",
        "        logits = self.mlp(cat).squeeze(dim=1)\n",
        "        return logits  # raw scores (logits)\n",
        "\n",
        "class FullModel(nn.Module):\n",
        "    def __init__(self, in_channels, hidden_channels, predictor_hidden=128, num_layers=2):\n",
        "        super().__init__()\n",
        "        self.encoder = GNNEncoder(in_channels, hidden_channels, num_layers=num_layers)\n",
        "        self.predictor = LinkPredictor(hidden_channels, predictor_hidden)\n",
        "\n",
        "    def forward(self, data, edge_index_pos, edge_index_neg=None):\n",
        "        \"\"\"\n",
        "        data: PyG Data object (contains x, edge_index)\n",
        "        edge_index_pos: tensor shape (2, P) positive edges to score\n",
        "        edge_index_neg: optional (2, N) negative edges to score (if provided)\n",
        "        Returns logits for positive and negative edges (if neg provided)\n",
        "        \"\"\"\n",
        "        z = self.encoder(data.x, data.edge_index)\n",
        "        # positive\n",
        "        pos_i = edge_index_pos[0]\n",
        "        pos_j = edge_index_pos[1]\n",
        "        pos_logits = self.predictor(z[pos_i], z[pos_j])\n",
        "        if edge_index_neg is None:\n",
        "            return pos_logits\n",
        "        neg_i = edge_index_neg[0]\n",
        "        neg_j = edge_index_neg[1]\n",
        "        neg_logits = self.predictor(z[neg_i], z[neg_j])\n",
        "        return pos_logits, neg_logits, z\n",
        "\n",
        "# ======= Utility: build negative samples for a batch =======\n",
        "def make_negative_edges(data, num_neg_samples=None):\n",
        "    \"\"\"\n",
        "    Use PyG negative_sampling to sample negative edges for the given data.\n",
        "    data.edge_index is considered positive edges used for sampling avoidance.\n",
        "    Returns tensor (2, num_neg)\n",
        "    \"\"\"\n",
        "    num_nodes = data.num_nodes\n",
        "    pos_edges = data.edge_index\n",
        "    pos_count = pos_edges.size(1)\n",
        "    if num_neg_samples is None:\n",
        "        num_neg_samples = pos_count  # balance pos/neg\n",
        "    neg = negative_sampling(edge_index=pos_edges, num_nodes=num_nodes, num_neg_samples=num_neg_samples)\n",
        "    return neg  # shape (2, num_neg)\n",
        "\n",
        "# ======= Training loop =======\n",
        "def train_epoch(model, loader, optimizer, device):\n",
        "    model.train()\n",
        "    total_loss = 0.0\n",
        "    for data in loader:\n",
        "        data = data.to(device)\n",
        "        # use graph's stored edge_index as candidate edges; assume edge_label exists aligned to edge_index\n",
        "        if not hasattr(data, 'edge_label'):\n",
        "            # if no labels, skip supervised training\n",
        "            continue\n",
        "\n",
        "        # positive edges are the edges we saved; we will also sample negatives\n",
        "        pos_edge_index = data.edge_index  # shape (2, E)\n",
        "        # sample negatives\n",
        "        neg_edge_index = make_negative_edges(data, num_neg_samples=pos_edge_index.size(1))\n",
        "\n",
        "        optimizer.zero_grad()\n",
        "        pos_logits, neg_logits, _ = model(data, pos_edge_index, neg_edge_index)\n",
        "        # build labels: pos=1, neg=0\n",
        "        labels_pos = data.edge_label.to(device) if data.edge_label.numel() == pos_logits.numel() else torch.ones_like(pos_logits)\n",
        "        labels_neg = torch.zeros_like(neg_logits)\n",
        "        logits = torch.cat([pos_logits, neg_logits], dim=0)\n",
        "        labels = torch.cat([labels_pos, labels_neg], dim=0)\n",
        "        loss = F.binary_cross_entropy_with_logits(logits, labels)\n",
        "        loss.backward()\n",
        "        optimizer.step()\n",
        "\n",
        "        total_loss += loss.item() * data.num_nodes\n",
        "    return total_loss / max(1, len(loader.dataset))\n",
        "\n",
        "def eval_epoch(model, loader, device):\n",
        "    model.eval()\n",
        "    all_logits = []\n",
        "    all_labels = []\n",
        "    with torch.no_grad():\n",
        "        for data in loader:\n",
        "            data = data.to(device)\n",
        "            if not hasattr(data, 'edge_label'):\n",
        "                continue\n",
        "            pos_edge_index = data.edge_index\n",
        "            neg_edge_index = make_negative_edges(data, num_neg_samples=pos_edge_index.size(1))\n",
        "            pos_logits, neg_logits, _ = model(data, pos_edge_index, neg_edge_index)\n",
        "            labels_pos = data.edge_label.to(device) if data.edge_label.numel() == pos_logits.numel() else torch.ones_like(pos_logits)\n",
        "            labels_neg = torch.zeros_like(neg_logits)\n",
        "            logits = torch.cat([pos_logits, neg_logits], dim=0).cpu().numpy()\n",
        "            labels = torch.cat([labels_pos, labels_neg], dim=0).cpu().numpy()\n",
        "            all_logits.append(logits)\n",
        "            all_labels.append(labels)\n",
        "    if not all_logits:\n",
        "        return {}\n",
        "    all_logits = np.concatenate(all_logits)\n",
        "    all_labels = np.concatenate(all_labels)\n",
        "    # metrics\n",
        "    try:\n",
        "        auc = roc_auc_score(all_labels, all_logits)\n",
        "    except Exception:\n",
        "        auc = float('nan')\n",
        "    ap = average_precision_score(all_labels, all_logits)\n",
        "    preds = (all_logits >= 0.0).astype(int)  # threshold at 0 logit == 0.5 prob\n",
        "    prec, recall, f1, _ = precision_recall_fscore_support(all_labels, preds, average='binary', zero_division=0)\n",
        "    return {'auc': auc, 'ap': ap, 'prec': prec, 'recall': recall, 'f1': f1}\n",
        "\n",
        "# ======= Example training script =======\n",
        "def run_training(data_dir, device='cuda' if torch.cuda.is_available() else 'cpu', epochs=10, batch_size=4):\n",
        "    dataset = NPZGraphDataset(data_dir)\n",
        "    # train/val split\n",
        "    num = len(dataset)\n",
        "    idx = list(range(num))\n",
        "    np.random.shuffle(idx)\n",
        "    split = int(0.8 * num)\n",
        "    train_idx, val_idx = idx[:split], idx[split:]\n",
        "    train_set = [dataset[i] for i in train_idx]\n",
        "    val_set = [dataset[i] for i in val_idx]\n",
        "\n",
        "    train_loader = DataLoader(train_set, batch_size=batch_size, shuffle=True)\n",
        "    val_loader = DataLoader(val_set, batch_size=batch_size, shuffle=False)\n",
        "\n",
        "    # infer input dim\n",
        "    sample = dataset[0]\n",
        "    in_dim = sample.x.size(1)\n",
        "    model = FullModel(in_channels=in_dim, hidden_channels=128, predictor_hidden=128, num_layers=2).to(device)\n",
        "    optimizer = torch.optim.Adam(model.parameters(), lr=1e-3, weight_decay=1e-5)\n",
        "\n",
        "    for epoch in range(1, epochs + 1):\n",
        "        train_loss = train_epoch(model, train_loader, optimizer, device)\n",
        "        metrics = eval_epoch(model, val_loader, device)\n",
        "        print(f\"Epoch {epoch:03d}  TrainLoss: {train_loss:.4f}  Val: {metrics}\")\n",
        "    return model\n",
        "\n",
        "# ======= Postprocessing: reconstruct attack groups from predicted edges =======\n",
        "def reconstruct_groups_from_data(model, data, device, score_threshold=0.5):\n",
        "    \"\"\"\n",
        "    For a single Data graph, compute pairwise predicted probabilities for all candidate edges,\n",
        "    keep edges above threshold and extract connected components as attack groups.\n",
        "    \"\"\"\n",
        "    model.eval()\n",
        "    data = data.to(device)\n",
        "    with torch.no_grad():\n",
        "        z = model.encoder(data.x, data.edge_index)  # node embeddings\n",
        "        # compute all-pairs scores (careful for large N)\n",
        "        # we only score the candidate edges that exist in data.edge_index to be efficient\n",
        "        edge_idx = data.edge_index\n",
        "        i = edge_idx[0]\n",
        "        j = edge_idx[1]\n",
        "        logits = model.predictor(z[i], z[j])\n",
        "        probs = torch.sigmoid(logits).cpu().numpy()\n",
        "    # build graph only keeping edges above threshold\n",
        "    keep_mask = probs >= score_threshold\n",
        "    kept_edges = edge_idx[:, keep_mask].cpu().numpy()\n",
        "    if kept_edges.shape[1] == 0:\n",
        "        # no edges kept; each node is its own group\n",
        "        return [{n} for n in range(data.num_nodes)]\n",
        "    # convert to undirected for components\n",
        "    G = nx.Graph()\n",
        "    G.add_nodes_from(range(data.num_nodes))\n",
        "    edge_tuples = list(zip(kept_edges[0].tolist(), kept_edges[1].tolist()))\n",
        "    G.add_edges_from(edge_tuples)\n",
        "    groups = [set(c) for c in nx.connected_components(G)]\n",
        "    return groups\n",
        "\n"
      ]
    },
    {
      "cell_type": "code",
      "execution_count": 2,
      "id": "8f3e8ac7",
      "metadata": {
        "colab": {
          "base_uri": "https://localhost:8080/"
        },
        "id": "8f3e8ac7",
        "outputId": "37fbe78a-4020-4edc-c17b-c1c46566ba74"
      },
      "outputs": [
        {
          "name": "stdout",
          "output_type": "stream",
          "text": [
            "Using device: cpu\n",
            "Mounted at /content/drive\n"
          ]
        }
      ],
      "source": [
        "import os\n",
        "import pandas as pd\n",
        "import numpy as np\n",
        "import torch\n",
        "import torch.nn.functional as F\n",
        "from torch.nn import Linear\n",
        "from torch_geometric.nn import SAGEConv, global_mean_pool\n",
        "from torch_geometric.data import Dataset, Data\n",
        "from torch_geometric.loader import DataLoader\n",
        "from sklearn.utils.class_weight import compute_class_weight\n",
        "from sklearn.metrics import classification_report, confusion_matrix, accuracy_score\n",
        "from tqdm import tqdm\n",
        "import json\n",
        "import seaborn as sns\n",
        "import matplotlib.pyplot as plt\n",
        "from torch.utils.data import WeightedRandomSampler\n",
        "from collections import Counter\n",
        "import matplotlib.pyplot as plt\n",
        "from google.colab import drive\n",
        "\n",
        "\n",
        "# --- CONFIGURATION ---\n",
        "class Config:\n",
        "    METADATA_DIR = \"metadata\"\n",
        "    DEVICE = \"cuda\" if torch.cuda.is_available() else \"cpu\"\n",
        "    BATCH_SIZE = 4\n",
        "    LEARNING_RATE = 0.001\n",
        "    EPOCHS = 10\n",
        "    HIDDEN_CHANNELS = 128\n",
        "    # NUM_WORKERS = 2\n",
        "    MODEL_DIR = \"models\"\n",
        "    DRIVE_DIR = \"/content/drive/MyDrive/graphs\"\n",
        "\n",
        "print(f\"Using device: {Config.DEVICE}\")\n",
        "\n",
        "# Mount Google Drive before loading data\n",
        "drive.mount('/content/drive', force_remount=True)"
      ]
    },
    {
      "cell_type": "code",
      "execution_count": 3,
      "id": "0554f39b",
      "metadata": {
        "colab": {
          "base_uri": "https://localhost:8080/"
        },
        "id": "0554f39b",
        "outputId": "e8842c9b-3456-4810-d7bf-590210e389ea"
      },
      "outputs": [
        {
          "name": "stdout",
          "output_type": "stream",
          "text": [
            "Loading datasets...\n"
          ]
        }
      ],
      "source": [
        "# --- EFFICIENT DATASET LOADER ---\n",
        "class AlertGraphDataset(Dataset):\n",
        "    def __init__(self, metadata_path, max_edges=200_000):\n",
        "        super().__init__()\n",
        "        self.metadata = pd.read_csv(metadata_path)\n",
        "        self.max_edges = max_edges\n",
        "\n",
        "    def len(self):\n",
        "        return len(self.metadata)\n",
        "\n",
        "    def get(self, idx):\n",
        "        graph_info = self.metadata.iloc[idx]\n",
        "        filepath = graph_info['filepath']\n",
        "        label = graph_info['label_id']\n",
        "\n",
        "        norm_path = filepath.replace(\"\\\\\", \"/\")\n",
        "        drive_filepath = os.path.join(Config.DRIVE_DIR, norm_path)\n",
        "        drive_filepath = os.path.normpath(drive_filepath)\n",
        "\n",
        "        with np.load(drive_filepath) as data:\n",
        "            node_feats = torch.from_numpy(data['node_feats']).float()\n",
        "\n",
        "            if 'sources' in data and data['sources'].size > 0:\n",
        "                edges = np.vstack([data['sources'], data['destinations']])\n",
        "                if edges.shape[1] > self.max_edges:\n",
        "                    perm = np.random.choice(edges.shape[1], self.max_edges, replace=False)\n",
        "                    edges = edges[:, perm]\n",
        "                edge_index = torch.from_numpy(edges).long()\n",
        "            else:\n",
        "                edge_index = torch.empty((2, 0), dtype=torch.long)\n",
        "\n",
        "        return Data(x=node_feats, edge_index=edge_index, y=torch.tensor(label, dtype=torch.long))\n",
        "\n",
        "\n",
        "# --- LOAD LABEL MAP ---\n",
        "label_map_path = os.path.join(Config.DRIVE_DIR, Config.METADATA_DIR, 'label_map.json')\n",
        "with open(label_map_path, 'r') as f:\n",
        "    label_map = json.load(f)\n",
        "\n",
        "id_to_label = {v: k for k, v in label_map.items()}\n",
        "num_classes = len(label_map)\n",
        "class_names = [id_to_label[i] for i in sorted(id_to_label.keys())]\n",
        "\n",
        "# --- LOAD DATASETS ---\n",
        "print(\"Loading datasets...\")\n",
        "train_dataset = AlertGraphDataset(os.path.join(Config.DRIVE_DIR, Config.METADATA_DIR, 'train.csv'))\n",
        "val_dataset = AlertGraphDataset(os.path.join(Config.DRIVE_DIR, Config.METADATA_DIR, 'val.csv'))\n",
        "test_dataset = AlertGraphDataset(os.path.join(Config.DRIVE_DIR, Config.METADATA_DIR, 'test.csv'))\n",
        "\n",
        "# --- BUILD WEIGHTED SAMPLER ---\n",
        "train_df = pd.read_csv(os.path.join(Config.DRIVE_DIR, Config.METADATA_DIR, 'train.csv'))\n",
        "\n",
        "# Load class weights computed by prepare_metadata.py\n",
        "with open(os.path.join(Config.DRIVE_DIR, Config.METADATA_DIR, 'class_weights.json')) as f:\n",
        "    class_weights_dict = json.load(f)\n",
        "\n",
        "# Map weights to samples\n",
        "weights_per_class = {i: class_weights_dict[str(i)] for label, i in label_map.items()}\n",
        "sample_weights = train_df['label_id'].map(lambda x: weights_per_class[x]).values\n",
        "sampler = WeightedRandomSampler(sample_weights, num_samples=len(sample_weights), replacement=True)"
      ]
    },
    {
      "cell_type": "code",
      "execution_count": 4,
      "id": "dacd9e2a",
      "metadata": {
        "colab": {
          "base_uri": "https://localhost:8080/",
          "height": 719
        },
        "id": "dacd9e2a",
        "outputId": "15b29e74-62f1-460d-ebb6-70509b18e0b6"
      },
      "outputs": [
        {
          "name": "stdout",
          "output_type": "stream",
          "text": [
            "\n",
            "--- Checking WeightedRandomSampler Sampling Distribution ---\n",
            "Label 0 (cracking): sampled 946 times\n",
            "Label 1 (dirb): sampled 971 times\n",
            "Label 2 (dnsteal): sampled 920 times\n",
            "Label 3 (false_positive): sampled 877 times\n",
            "Label 4 (network_scans): sampled 967 times\n",
            "Label 5 (privilege_escalation): sampled 996 times\n",
            "Label 6 (reverse_shell): sampled 905 times\n",
            "Label 7 (service_scans): sampled 933 times\n",
            "Label 8 (webshell): sampled 924 times\n",
            "Label 9 (wpscan): sampled 960 times\n"
          ]
        },
        {
          "data": {
            "image/png": "[encoded data removed]",
            "text/plain": [
              "<Figure size 1000x500 with 1 Axes>"
            ]
          },
          "metadata": {},
          "output_type": "display_data"
        }
      ],
      "source": [
        "# --- Verify Weighted Sampler Effect ---\n",
        "print(\"\\n--- Checking WeightedRandomSampler Sampling Distribution ---\")\n",
        "sampled_indices = list(sampler)  # one full epoch worth of indices\n",
        "sampled_labels = train_df.iloc[sampled_indices]['label_id'].values\n",
        "\n",
        "# Count how many times each label was drawn\n",
        "sample_counts = Counter(sampled_labels)\n",
        "\n",
        "# Display raw counts\n",
        "for label_id, count in sorted(sample_counts.items()):\n",
        "    print(f\"Label {label_id} ({id_to_label[label_id]}): sampled {count} times\")\n",
        "\n",
        "# Visual check\n",
        "plt.figure(figsize=(10, 5))\n",
        "plt.bar(\n",
        "    [id_to_label[i] for i in sorted(sample_counts.keys())],\n",
        "    [sample_counts[i] for i in sorted(sample_counts.keys())]\n",
        ")\n",
        "plt.xticks(rotation=45, ha='right')\n",
        "plt.title(\"WeightedRandomSampler Output Distribution\")\n",
        "plt.ylabel(\"Sample Count (per epoch)\")\n",
        "plt.tight_layout()\n",
        "plt.show()"
      ]
    },
    {
      "cell_type": "code",
      "execution_count": 5,
      "id": "9d6bbdb2",
      "metadata": {
        "colab": {
          "base_uri": "https://localhost:8080/"
        },
        "id": "9d6bbdb2",
        "outputId": "f14200f2-1308-4593-e453-99997b8a9371"
      },
      "outputs": [
        {
          "name": "stdout",
          "output_type": "stream",
          "text": [
            "Train graphs: 9399, Val graphs: 1659, Test graphs: 1952\n"
          ]
        }
      ],
      "source": [
        "# --- DATALOADERS ---\n",
        "train_loader = DataLoader(train_dataset, batch_size=Config.BATCH_SIZE, sampler=sampler)\n",
        "val_loader = DataLoader(val_dataset, batch_size=Config.BATCH_SIZE, shuffle=False)\n",
        "test_loader = DataLoader(test_dataset, batch_size=Config.BATCH_SIZE, shuffle=False)\n",
        "\n",
        "print(f\"Train graphs: {len(train_dataset)}, Val graphs: {len(val_dataset)}, Test graphs: {len(test_dataset)}\")"
      ]
    },
    {
      "cell_type": "code",
      "execution_count": 6,
      "id": "6a834ea7",
      "metadata": {
        "id": "6a834ea7"
      },
      "outputs": [],
      "source": [
        "# --- FOCAL LOSS ---\n",
        "class FocalLoss(torch.nn.Module):\n",
        "    def __init__(self, alpha=None, gamma=2.0, reduction='mean'):\n",
        "        super(FocalLoss, self).__init__()\n",
        "        self.alpha = alpha\n",
        "        self.gamma = gamma\n",
        "        self.reduction = reduction\n",
        "\n",
        "    def forward(self, inputs, targets):\n",
        "        ce_loss = F.cross_entropy(inputs, targets, reduction='none', weight=self.alpha)\n",
        "        pt = torch.exp(-ce_loss)\n",
        "        focal_loss = ((1 - pt) ** self.gamma * ce_loss)\n",
        "        return focal_loss.mean() if self.reduction == 'mean' else focal_loss.sum()\n",
        "\n",
        "\n",
        "# --- GNN MODEL ---\n",
        "class GNNClassifier(torch.nn.Module):\n",
        "    def __init__(self, in_channels, hidden_channels, out_channels):\n",
        "        super().__init__()\n",
        "        self.conv1 = SAGEConv(in_channels, hidden_channels)\n",
        "        self.conv2 = SAGEConv(hidden_channels, hidden_channels)\n",
        "        self.classifier = Linear(hidden_channels, out_channels)\n",
        "\n",
        "    def forward(self, data):\n",
        "        x, edge_index, batch = data.x, data.edge_index, data.batch\n",
        "        x = self.conv1(x, edge_index).relu()\n",
        "        x = self.conv2(x, edge_index).relu()\n",
        "        x = global_mean_pool(x, batch)\n",
        "        x = F.dropout(x, p=0.5, training=self.training)\n",
        "        return self.classifier(x)\n",
        "\n",
        "\n",
        "# --- TRAIN & EVAL FUNCTIONS ---\n",
        "def train(model, loader, optimizer, criterion):\n",
        "    model.train()\n",
        "    total_loss = 0.0\n",
        "    scaler = torch.amp.GradScaler('cuda')\n",
        "\n",
        "    for batch in tqdm(loader, desc=\"Training\", leave=False):\n",
        "        batch = batch.to(Config.DEVICE)\n",
        "        optimizer.zero_grad(set_to_none=True)\n",
        "\n",
        "        with torch.amp.autocast('cuda'):\n",
        "            out = model(batch)\n",
        "            loss = criterion(out, batch.y)\n",
        "\n",
        "        scaler.scale(loss).backward()\n",
        "        scaler.step(optimizer)\n",
        "        scaler.update()\n",
        "        total_loss += loss.item() * batch.num_graphs\n",
        "        torch.cuda.empty_cache()\n",
        "\n",
        "    return total_loss / len(loader.dataset)\n",
        "\n",
        "\n",
        "def evaluate(model, loader, criterion):\n",
        "    model.eval()\n",
        "    total_loss = 0\n",
        "    all_preds, all_labels = [], []\n",
        "\n",
        "    with torch.no_grad():\n",
        "        for batch in tqdm(loader, desc=\"Evaluating\", leave=False):\n",
        "            try:\n",
        "                batch = batch.to(Config.DEVICE)\n",
        "                with torch.amp.autocast('cuda'):\n",
        "                    out = model(batch)\n",
        "                    loss = criterion(out, batch.y)\n",
        "\n",
        "                total_loss += loss.item() * batch.num_graphs\n",
        "                preds = out.argmax(dim=1)\n",
        "                all_preds.extend(preds.cpu().numpy())\n",
        "                all_labels.extend(batch.y.cpu().numpy())\n",
        "\n",
        "            except torch.cuda.OutOfMemoryError:\n",
        "                print(\"OOM — running this batch on CPU.\")\n",
        "                torch.cuda.empty_cache()\n",
        "                batch = batch.to(\"cpu\")\n",
        "                with torch.amp.autocast(device_type=\"cpu\", enabled=False):\n",
        "                    out = model(batch)\n",
        "                    loss = criterion(out, batch.y)\n",
        "                total_loss += loss.item() * batch.num_graphs\n",
        "                preds = out.argmax(dim=1)\n",
        "                all_preds.extend(preds.cpu().numpy())\n",
        "                all_labels.extend(batch.y.cpu().numpy())\n",
        "\n",
        "            finally:\n",
        "                if Config.DEVICE == \"cuda\":\n",
        "                    torch.cuda.empty_cache()\n",
        "\n",
        "    avg_loss = total_loss / len(loader.dataset)\n",
        "    acc = accuracy_score(all_labels, all_preds)\n",
        "    return avg_loss, acc, all_preds, all_labels"
      ]
    },
    {
      "cell_type": "code",
      "execution_count": 7,
      "id": "5da4e40d",
      "metadata": {
        "colab": {
          "base_uri": "https://localhost:8080/"
        },
        "id": "5da4e40d",
        "outputId": "f28b2e0c-84bd-4229-8aab-a15f0da38bbb"
      },
      "outputs": [
        {
          "name": "stdout",
          "output_type": "stream",
          "text": [
            "Using Focal Loss with class weighting\n"
          ]
        },
        {
          "name": "stderr",
          "output_type": "stream",
          "text": [
            "/usr/local/lib/python3.12/dist-packages/torch/amp/grad_scaler.py:136: UserWarning: torch.cuda.amp.GradScaler is enabled, but CUDA is not available.  Disabling.\n",
            "  warnings.warn(\n"
          ]
        },
        {
          "name": "stdout",
          "output_type": "stream",
          "text": [
            "\n",
            "--- Starting Training ---\n"
          ]
        },
        {
          "name": "stderr",
          "output_type": "stream",
          "text": [
            "Training:   0%|          | 0/2350 [00:00<?, ?it/s]/usr/local/lib/python3.12/dist-packages/torch/amp/autocast_mode.py:266: UserWarning: User provided device_type of 'cuda', but CUDA is not available. Disabling\n",
            "  warnings.warn(\n",
            "/usr/local/lib/python3.12/dist-packages/torch/amp/grad_scaler.py:136: UserWarning: torch.cuda.amp.GradScaler is enabled, but CUDA is not available.  Disabling.\n",
            "  warnings.warn(\n"
          ]
        },
        {
          "name": "stdout",
          "output_type": "stream",
          "text": [
            "Epoch 01 | Train Loss: 1.4219 | Val Loss: 1.6055 | Val Acc: 0.5262\n",
            "Best model saved!\n"
          ]
        },
        {
          "name": "stderr",
          "output_type": "stream",
          "text": [
            "\rTraining:   0%|          | 0/2350 [00:00<?, ?it/s]/usr/local/lib/python3.12/dist-packages/torch/amp/autocast_mode.py:266: UserWarning: User provided device_type of 'cuda', but CUDA is not available. Disabling\n",
            "  warnings.warn(\n",
            "/usr/local/lib/python3.12/dist-packages/torch/amp/grad_scaler.py:136: UserWarning: torch.cuda.amp.GradScaler is enabled, but CUDA is not available.  Disabling.\n",
            "  warnings.warn(\n"
          ]
        },
        {
          "name": "stdout",
          "output_type": "stream",
          "text": [
            "Epoch 02 | Train Loss: 1.2030 | Val Loss: 1.5392 | Val Acc: 0.4937\n",
            "Best model saved!\n"
          ]
        },
        {
          "name": "stderr",
          "output_type": "stream",
          "text": [
            "Training:   0%|          | 0/2350 [00:00<?, ?it/s]/usr/local/lib/python3.12/dist-packages/torch/amp/autocast_mode.py:266: UserWarning: User provided device_type of 'cuda', but CUDA is not available. Disabling\n",
            "  warnings.warn(\n",
            "/usr/local/lib/python3.12/dist-packages/torch/amp/grad_scaler.py:136: UserWarning: torch.cuda.amp.GradScaler is enabled, but CUDA is not available.  Disabling.\n",
            "  warnings.warn(\n"
          ]
        },
        {
          "name": "stdout",
          "output_type": "stream",
          "text": [
            "Epoch 03 | Train Loss: 1.1341 | Val Loss: 1.3033 | Val Acc: 0.7022\n",
            "Best model saved!\n"
          ]
        },
        {
          "name": "stderr",
          "output_type": "stream",
          "text": [
            "\rTraining:   0%|          | 0/2350 [00:00<?, ?it/s]/usr/local/lib/python3.12/dist-packages/torch/amp/autocast_mode.py:266: UserWarning: User provided device_type of 'cuda', but CUDA is not available. Disabling\n",
            "  warnings.warn(\n",
            "/usr/local/lib/python3.12/dist-packages/torch/amp/grad_scaler.py:136: UserWarning: torch.cuda.amp.GradScaler is enabled, but CUDA is not available.  Disabling.\n",
            "  warnings.warn(\n"
          ]
        },
        {
          "name": "stdout",
          "output_type": "stream",
          "text": [
            "Epoch 04 | Train Loss: 1.0945 | Val Loss: 1.5475 | Val Acc: 0.2544\n"
          ]
        },
        {
          "name": "stderr",
          "output_type": "stream",
          "text": [
            "\rTraining:   0%|          | 0/2350 [00:00<?, ?it/s]/usr/local/lib/python3.12/dist-packages/torch/amp/autocast_mode.py:266: UserWarning: User provided device_type of 'cuda', but CUDA is not available. Disabling\n",
            "  warnings.warn(\n",
            "/usr/local/lib/python3.12/dist-packages/torch/amp/grad_scaler.py:136: UserWarning: torch.cuda.amp.GradScaler is enabled, but CUDA is not available.  Disabling.\n",
            "  warnings.warn(\n"
          ]
        },
        {
          "name": "stdout",
          "output_type": "stream",
          "text": [
            "Epoch 05 | Train Loss: 1.0630 | Val Loss: 1.5389 | Val Acc: 0.3044\n"
          ]
        },
        {
          "name": "stderr",
          "output_type": "stream",
          "text": [
            "\rTraining:   0%|          | 0/2350 [00:00<?, ?it/s]/usr/local/lib/python3.12/dist-packages/torch/amp/autocast_mode.py:266: UserWarning: User provided device_type of 'cuda', but CUDA is not available. Disabling\n",
            "  warnings.warn(\n",
            "/usr/local/lib/python3.12/dist-packages/torch/amp/grad_scaler.py:136: UserWarning: torch.cuda.amp.GradScaler is enabled, but CUDA is not available.  Disabling.\n",
            "  warnings.warn(\n"
          ]
        },
        {
          "name": "stdout",
          "output_type": "stream",
          "text": [
            "Epoch 06 | Train Loss: 1.0334 | Val Loss: 1.4508 | Val Acc: 0.5359\n"
          ]
        },
        {
          "name": "stderr",
          "output_type": "stream",
          "text": [
            "Training:   0%|          | 0/2350 [00:00<?, ?it/s]/usr/local/lib/python3.12/dist-packages/torch/amp/autocast_mode.py:266: UserWarning: User provided device_type of 'cuda', but CUDA is not available. Disabling\n",
            "  warnings.warn(\n",
            "/usr/local/lib/python3.12/dist-packages/torch/amp/grad_scaler.py:136: UserWarning: torch.cuda.amp.GradScaler is enabled, but CUDA is not available.  Disabling.\n",
            "  warnings.warn(\n"
          ]
        },
        {
          "name": "stdout",
          "output_type": "stream",
          "text": [
            "Epoch 07 | Train Loss: 1.0296 | Val Loss: 1.4664 | Val Acc: 0.5564\n"
          ]
        },
        {
          "name": "stderr",
          "output_type": "stream",
          "text": [
            "\rTraining:   0%|          | 0/2350 [00:00<?, ?it/s]/usr/local/lib/python3.12/dist-packages/torch/amp/autocast_mode.py:266: UserWarning: User provided device_type of 'cuda', but CUDA is not available. Disabling\n",
            "  warnings.warn(\n",
            "/usr/local/lib/python3.12/dist-packages/torch/amp/grad_scaler.py:136: UserWarning: torch.cuda.amp.GradScaler is enabled, but CUDA is not available.  Disabling.\n",
            "  warnings.warn(\n"
          ]
        },
        {
          "name": "stdout",
          "output_type": "stream",
          "text": [
            "Epoch 08 | Train Loss: 0.9865 | Val Loss: 1.3494 | Val Acc: 0.5419\n"
          ]
        },
        {
          "name": "stderr",
          "output_type": "stream",
          "text": [
            "\rTraining:   0%|          | 0/2350 [00:00<?, ?it/s]/usr/local/lib/python3.12/dist-packages/torch/amp/autocast_mode.py:266: UserWarning: User provided device_type of 'cuda', but CUDA is not available. Disabling\n",
            "  warnings.warn(\n",
            "/usr/local/lib/python3.12/dist-packages/torch/amp/grad_scaler.py:136: UserWarning: torch.cuda.amp.GradScaler is enabled, but CUDA is not available.  Disabling.\n",
            "  warnings.warn(\n"
          ]
        },
        {
          "name": "stdout",
          "output_type": "stream",
          "text": [
            "Epoch 09 | Train Loss: 1.0004 | Val Loss: 1.6038 | Val Acc: 0.2176\n"
          ]
        },
        {
          "name": "stderr",
          "output_type": "stream",
          "text": [
            "\rTraining:   0%|          | 0/2350 [00:00<?, ?it/s]/usr/local/lib/python3.12/dist-packages/torch/amp/autocast_mode.py:266: UserWarning: User provided device_type of 'cuda', but CUDA is not available. Disabling\n",
            "  warnings.warn(\n",
            "                                                             "
          ]
        },
        {
          "name": "stdout",
          "output_type": "stream",
          "text": [
            "Epoch 10 | Train Loss: 0.9642 | Val Loss: 1.3967 | Val Acc: 0.4569\n",
            "\n",
            "Training Finished.\n"
          ]
        },
        {
          "name": "stderr",
          "output_type": "stream",
          "text": [
            "\r"
          ]
        }
      ],
      "source": [
        "# --- INITIALIZE MODEL, LOSS, OPTIMIZER ---\n",
        "# alpha_tensor = torch.tensor(list(class_weights_dict.values()), dtype=torch.float).to(Config.DEVICE)\n",
        "# criterion = FocalLoss(alpha=alpha_tensor, gamma=2.0)\n",
        "criterion = torch.nn.CrossEntropyLoss()\n",
        "print(\"Using Focal Loss with class weighting\")\n",
        "\n",
        "model = GNNClassifier(\n",
        "    in_channels=train_dataset[0].x.shape[1],\n",
        "    hidden_channels=Config.HIDDEN_CHANNELS,\n",
        "    out_channels=num_classes\n",
        ").to(Config.DEVICE)\n",
        "\n",
        "optimizer = torch.optim.Adam(model.parameters(), lr=Config.LEARNING_RATE)\n",
        "\n",
        "# --- TRAINING LOOP ---\n",
        "print(\"\\n--- Starting Training ---\")\n",
        "best_val_loss = float('inf')\n",
        "\n",
        "for epoch in range(1, Config.EPOCHS + 1):\n",
        "    train_loss = train(model, train_loader, optimizer, criterion)\n",
        "    val_loss, val_acc, _, _ = evaluate(model, val_loader, criterion)\n",
        "\n",
        "    print(f\"Epoch {epoch:02d} | Train Loss: {train_loss:.4f} | Val Loss: {val_loss:.4f} | Val Acc: {val_acc:.4f}\")\n",
        "\n",
        "    if val_loss < best_val_loss:\n",
        "        best_val_loss = val_loss\n",
        "        torch.save(model.state_dict(), \"graph_sage_classifier.pth\")\n",
        "        print(\"Best model saved!\")\n",
        "\n",
        "print(\"\\nTraining Finished.\")"
      ]
    },
    {
      "cell_type": "code",
      "execution_count": 8,
      "id": "Imv1uck1rNF_",
      "metadata": {
        "colab": {
          "base_uri": "https://localhost:8080/",
          "height": 454
        },
        "id": "Imv1uck1rNF_",
        "outputId": "4a753001-c479-44cb-ea58-86a5c6542bd7"
      },
      "outputs": [
        {
          "name": "stdout",
          "output_type": "stream",
          "text": [
            "\n",
            "--- Evaluating on Test Set ---\n"
          ]
        },
        {
          "name": "stderr",
          "output_type": "stream",
          "text": [
            "Evaluating:   0%|          | 0/488 [00:00<?, ?it/s]/usr/local/lib/python3.12/dist-packages/torch/amp/autocast_mode.py:266: UserWarning: User provided device_type of 'cuda', but CUDA is not available. Disabling\n",
            "  warnings.warn(\n"
          ]
        },
        {
          "ename": "KeyboardInterrupt",
          "evalue": "",
          "output_type": "error",
          "traceback": [
            "\u001b[0;31m---------------------------------------------------------------------------\u001b[0m",
            "\u001b[0;31mKeyboardInterrupt\u001b[0m                         Traceback (most recent call last)",
            "\u001b[0;32m/tmp/ipython-input-3399299682.py\u001b[0m in \u001b[0;36m<cell line: 0>\u001b[0;34m()\u001b[0m\n\u001b[1;32m      2\u001b[0m \u001b[0mmodel\u001b[0m\u001b[0;34m.\u001b[0m\u001b[0mload_state_dict\u001b[0m\u001b[0;34m(\u001b[0m\u001b[0mtorch\u001b[0m\u001b[0;34m.\u001b[0m\u001b[0mload\u001b[0m\u001b[0;34m(\u001b[0m\u001b[0;34m\"graph_sage_classifier.pth\"\u001b[0m\u001b[0;34m)\u001b[0m\u001b[0;34m)\u001b[0m\u001b[0;34m\u001b[0m\u001b[0;34m\u001b[0m\u001b[0m\n\u001b[1;32m      3\u001b[0m \u001b[0;34m\u001b[0m\u001b[0m\n\u001b[0;32m----> 4\u001b[0;31m \u001b[0mtest_loss\u001b[0m\u001b[0;34m,\u001b[0m \u001b[0mtest_acc\u001b[0m\u001b[0;34m,\u001b[0m \u001b[0mtest_preds\u001b[0m\u001b[0;34m,\u001b[0m \u001b[0mtest_labels\u001b[0m \u001b[0;34m=\u001b[0m \u001b[0mevaluate\u001b[0m\u001b[0;34m(\u001b[0m\u001b[0mmodel\u001b[0m\u001b[0;34m,\u001b[0m \u001b[0mtest_loader\u001b[0m\u001b[0;34m,\u001b[0m \u001b[0mcriterion\u001b[0m\u001b[0;34m)\u001b[0m\u001b[0;34m\u001b[0m\u001b[0;34m\u001b[0m\u001b[0m\n\u001b[0m\u001b[1;32m      5\u001b[0m \u001b[0mprint\u001b[0m\u001b[0;34m(\u001b[0m\u001b[0;34mf\"\\nFinal Test Accuracy: {test_acc:.4f}\"\u001b[0m\u001b[0;34m)\u001b[0m\u001b[0;34m\u001b[0m\u001b[0;34m\u001b[0m\u001b[0m\n",
            "\u001b[0;32m/tmp/ipython-input-2642311155.py\u001b[0m in \u001b[0;36mevaluate\u001b[0;34m(model, loader, criterion)\u001b[0m\n\u001b[1;32m     60\u001b[0m \u001b[0;34m\u001b[0m\u001b[0m\n\u001b[1;32m     61\u001b[0m     \u001b[0;32mwith\u001b[0m \u001b[0mtorch\u001b[0m\u001b[0;34m.\u001b[0m\u001b[0mno_grad\u001b[0m\u001b[0;34m(\u001b[0m\u001b[0;34m)\u001b[0m\u001b[0;34m:\u001b[0m\u001b[0;34m\u001b[0m\u001b[0;34m\u001b[0m\u001b[0m\n\u001b[0;32m---> 62\u001b[0;31m         \u001b[0;32mfor\u001b[0m \u001b[0mbatch\u001b[0m \u001b[0;32min\u001b[0m \u001b[0mtqdm\u001b[0m\u001b[0;34m(\u001b[0m\u001b[0mloader\u001b[0m\u001b[0;34m,\u001b[0m \u001b[0mdesc\u001b[0m\u001b[0;34m=\u001b[0m\u001b[0;34m\"Evaluating\"\u001b[0m\u001b[0;34m,\u001b[0m \u001b[0mleave\u001b[0m\u001b[0;34m=\u001b[0m\u001b[0;32mFalse\u001b[0m\u001b[0;34m)\u001b[0m\u001b[0;34m:\u001b[0m\u001b[0;34m\u001b[0m\u001b[0;34m\u001b[0m\u001b[0m\n\u001b[0m\u001b[1;32m     63\u001b[0m             \u001b[0;32mtry\u001b[0m\u001b[0;34m:\u001b[0m\u001b[0;34m\u001b[0m\u001b[0;34m\u001b[0m\u001b[0m\n\u001b[1;32m     64\u001b[0m                 \u001b[0mbatch\u001b[0m \u001b[0;34m=\u001b[0m \u001b[0mbatch\u001b[0m\u001b[0;34m.\u001b[0m\u001b[0mto\u001b[0m\u001b[0;34m(\u001b[0m\u001b[0mConfig\u001b[0m\u001b[0;34m.\u001b[0m\u001b[0mDEVICE\u001b[0m\u001b[0;34m)\u001b[0m\u001b[0;34m\u001b[0m\u001b[0;34m\u001b[0m\u001b[0m\n",
            "\u001b[0;32m/usr/local/lib/python3.12/dist-packages/tqdm/std.py\u001b[0m in \u001b[0;36m__iter__\u001b[0;34m(self)\u001b[0m\n\u001b[1;32m   1179\u001b[0m \u001b[0;34m\u001b[0m\u001b[0m\n\u001b[1;32m   1180\u001b[0m         \u001b[0;32mtry\u001b[0m\u001b[0;34m:\u001b[0m\u001b[0;34m\u001b[0m\u001b[0;34m\u001b[0m\u001b[0m\n\u001b[0;32m-> 1181\u001b[0;31m             \u001b[0;32mfor\u001b[0m \u001b[0mobj\u001b[0m \u001b[0;32min\u001b[0m \u001b[0miterable\u001b[0m\u001b[0;34m:\u001b[0m\u001b[0;34m\u001b[0m\u001b[0;34m\u001b[0m\u001b[0m\n\u001b[0m\u001b[1;32m   1182\u001b[0m                 \u001b[0;32myield\u001b[0m \u001b[0mobj\u001b[0m\u001b[0;34m\u001b[0m\u001b[0;34m\u001b[0m\u001b[0m\n\u001b[1;32m   1183\u001b[0m                 \u001b[0;31m# Update and possibly print the progressbar.\u001b[0m\u001b[0;34m\u001b[0m\u001b[0;34m\u001b[0m\u001b[0m\n",
            "\u001b[0;32m/usr/local/lib/python3.12/dist-packages/torch/utils/data/dataloader.py\u001b[0m in \u001b[0;36m__next__\u001b[0;34m(self)\u001b[0m\n\u001b[1;32m    732\u001b[0m                 \u001b[0;31m# TODO(https://github.com/pytorch/pytorch/issues/76750)\u001b[0m\u001b[0;34m\u001b[0m\u001b[0;34m\u001b[0m\u001b[0m\n\u001b[1;32m    733\u001b[0m                 \u001b[0mself\u001b[0m\u001b[0;34m.\u001b[0m\u001b[0m_reset\u001b[0m\u001b[0;34m(\u001b[0m\u001b[0;34m)\u001b[0m  \u001b[0;31m# type: ignore[call-arg]\u001b[0m\u001b[0;34m\u001b[0m\u001b[0;34m\u001b[0m\u001b[0m\n\u001b[0;32m--> 734\u001b[0;31m             \u001b[0mdata\u001b[0m \u001b[0;34m=\u001b[0m \u001b[0mself\u001b[0m\u001b[0;34m.\u001b[0m\u001b[0m_next_data\u001b[0m\u001b[0;34m(\u001b[0m\u001b[0;34m)\u001b[0m\u001b[0;34m\u001b[0m\u001b[0;34m\u001b[0m\u001b[0m\n\u001b[0m\u001b[1;32m    735\u001b[0m             \u001b[0mself\u001b[0m\u001b[0;34m.\u001b[0m\u001b[0m_num_yielded\u001b[0m \u001b[0;34m+=\u001b[0m \u001b[0;36m1\u001b[0m\u001b[0;34m\u001b[0m\u001b[0;34m\u001b[0m\u001b[0m\n\u001b[1;32m    736\u001b[0m             if (\n",
            "\u001b[0;32m/usr/local/lib/python3.12/dist-packages/torch/utils/data/dataloader.py\u001b[0m in \u001b[0;36m_next_data\u001b[0;34m(self)\u001b[0m\n\u001b[1;32m    788\u001b[0m     \u001b[0;32mdef\u001b[0m \u001b[0m_next_data\u001b[0m\u001b[0;34m(\u001b[0m\u001b[0mself\u001b[0m\u001b[0;34m)\u001b[0m\u001b[0;34m:\u001b[0m\u001b[0;34m\u001b[0m\u001b[0;34m\u001b[0m\u001b[0m\n\u001b[1;32m    789\u001b[0m         \u001b[0mindex\u001b[0m \u001b[0;34m=\u001b[0m \u001b[0mself\u001b[0m\u001b[0;34m.\u001b[0m\u001b[0m_next_index\u001b[0m\u001b[0;34m(\u001b[0m\u001b[0;34m)\u001b[0m  \u001b[0;31m# may raise StopIteration\u001b[0m\u001b[0;34m\u001b[0m\u001b[0;34m\u001b[0m\u001b[0m\n\u001b[0;32m--> 790\u001b[0;31m         \u001b[0mdata\u001b[0m \u001b[0;34m=\u001b[0m \u001b[0mself\u001b[0m\u001b[0;34m.\u001b[0m\u001b[0m_dataset_fetcher\u001b[0m\u001b[0;34m.\u001b[0m\u001b[0mfetch\u001b[0m\u001b[0;34m(\u001b[0m\u001b[0mindex\u001b[0m\u001b[0;34m)\u001b[0m  \u001b[0;31m# may raise StopIteration\u001b[0m\u001b[0;34m\u001b[0m\u001b[0;34m\u001b[0m\u001b[0m\n\u001b[0m\u001b[1;32m    791\u001b[0m         \u001b[0;32mif\u001b[0m \u001b[0mself\u001b[0m\u001b[0;34m.\u001b[0m\u001b[0m_pin_memory\u001b[0m\u001b[0;34m:\u001b[0m\u001b[0;34m\u001b[0m\u001b[0;34m\u001b[0m\u001b[0m\n\u001b[1;32m    792\u001b[0m             \u001b[0mdata\u001b[0m \u001b[0;34m=\u001b[0m \u001b[0m_utils\u001b[0m\u001b[0;34m.\u001b[0m\u001b[0mpin_memory\u001b[0m\u001b[0;34m.\u001b[0m\u001b[0mpin_memory\u001b[0m\u001b[0;34m(\u001b[0m\u001b[0mdata\u001b[0m\u001b[0;34m,\u001b[0m \u001b[0mself\u001b[0m\u001b[0;34m.\u001b[0m\u001b[0m_pin_memory_device\u001b[0m\u001b[0;34m)\u001b[0m\u001b[0;34m\u001b[0m\u001b[0;34m\u001b[0m\u001b[0m\n",
            "\u001b[0;32m/usr/local/lib/python3.12/dist-packages/torch/utils/data/_utils/fetch.py\u001b[0m in \u001b[0;36mfetch\u001b[0;34m(self, possibly_batched_index)\u001b[0m\n\u001b[1;32m     50\u001b[0m                 \u001b[0mdata\u001b[0m \u001b[0;34m=\u001b[0m \u001b[0mself\u001b[0m\u001b[0;34m.\u001b[0m\u001b[0mdataset\u001b[0m\u001b[0;34m.\u001b[0m\u001b[0m__getitems__\u001b[0m\u001b[0;34m(\u001b[0m\u001b[0mpossibly_batched_index\u001b[0m\u001b[0;34m)\u001b[0m\u001b[0;34m\u001b[0m\u001b[0;34m\u001b[0m\u001b[0m\n\u001b[1;32m     51\u001b[0m             \u001b[0;32melse\u001b[0m\u001b[0;34m:\u001b[0m\u001b[0;34m\u001b[0m\u001b[0;34m\u001b[0m\u001b[0m\n\u001b[0;32m---> 52\u001b[0;31m                 \u001b[0mdata\u001b[0m \u001b[0;34m=\u001b[0m \u001b[0;34m[\u001b[0m\u001b[0mself\u001b[0m\u001b[0;34m.\u001b[0m\u001b[0mdataset\u001b[0m\u001b[0;34m[\u001b[0m\u001b[0midx\u001b[0m\u001b[0;34m]\u001b[0m \u001b[0;32mfor\u001b[0m \u001b[0midx\u001b[0m \u001b[0;32min\u001b[0m \u001b[0mpossibly_batched_index\u001b[0m\u001b[0;34m]\u001b[0m\u001b[0;34m\u001b[0m\u001b[0;34m\u001b[0m\u001b[0m\n\u001b[0m\u001b[1;32m     53\u001b[0m         \u001b[0;32melse\u001b[0m\u001b[0;34m:\u001b[0m\u001b[0;34m\u001b[0m\u001b[0;34m\u001b[0m\u001b[0m\n\u001b[1;32m     54\u001b[0m             \u001b[0mdata\u001b[0m \u001b[0;34m=\u001b[0m \u001b[0mself\u001b[0m\u001b[0;34m.\u001b[0m\u001b[0mdataset\u001b[0m\u001b[0;34m[\u001b[0m\u001b[0mpossibly_batched_index\u001b[0m\u001b[0;34m]\u001b[0m\u001b[0;34m\u001b[0m\u001b[0;34m\u001b[0m\u001b[0m\n",
            "\u001b[0;32m/usr/local/lib/python3.12/dist-packages/torch_geometric/data/dataset.py\u001b[0m in \u001b[0;36m__getitem__\u001b[0;34m(self, idx)\u001b[0m\n\u001b[1;32m    289\u001b[0m                 or (isinstance(idx, np.ndarray) and np.isscalar(idx))):\n\u001b[1;32m    290\u001b[0m \u001b[0;34m\u001b[0m\u001b[0m\n\u001b[0;32m--> 291\u001b[0;31m             \u001b[0mdata\u001b[0m \u001b[0;34m=\u001b[0m \u001b[0mself\u001b[0m\u001b[0;34m.\u001b[0m\u001b[0mget\u001b[0m\u001b[0;34m(\u001b[0m\u001b[0mself\u001b[0m\u001b[0;34m.\u001b[0m\u001b[0mindices\u001b[0m\u001b[0;34m(\u001b[0m\u001b[0;34m)\u001b[0m\u001b[0;34m[\u001b[0m\u001b[0midx\u001b[0m\u001b[0;34m]\u001b[0m\u001b[0;34m)\u001b[0m\u001b[0;34m\u001b[0m\u001b[0;34m\u001b[0m\u001b[0m\n\u001b[0m\u001b[1;32m    292\u001b[0m             \u001b[0mdata\u001b[0m \u001b[0;34m=\u001b[0m \u001b[0mdata\u001b[0m \u001b[0;32mif\u001b[0m \u001b[0mself\u001b[0m\u001b[0;34m.\u001b[0m\u001b[0mtransform\u001b[0m \u001b[0;32mis\u001b[0m \u001b[0;32mNone\u001b[0m \u001b[0;32melse\u001b[0m \u001b[0mself\u001b[0m\u001b[0;34m.\u001b[0m\u001b[0mtransform\u001b[0m\u001b[0;34m(\u001b[0m\u001b[0mdata\u001b[0m\u001b[0;34m)\u001b[0m\u001b[0;34m\u001b[0m\u001b[0;34m\u001b[0m\u001b[0m\n\u001b[1;32m    293\u001b[0m             \u001b[0;32mreturn\u001b[0m \u001b[0mdata\u001b[0m\u001b[0;34m\u001b[0m\u001b[0;34m\u001b[0m\u001b[0m\n",
            "\u001b[0;32m/tmp/ipython-input-3641411263.py\u001b[0m in \u001b[0;36mget\u001b[0;34m(self, idx)\u001b[0m\n\u001b[1;32m     18\u001b[0m         \u001b[0mdrive_filepath\u001b[0m \u001b[0;34m=\u001b[0m \u001b[0mos\u001b[0m\u001b[0;34m.\u001b[0m\u001b[0mpath\u001b[0m\u001b[0;34m.\u001b[0m\u001b[0mnormpath\u001b[0m\u001b[0;34m(\u001b[0m\u001b[0mdrive_filepath\u001b[0m\u001b[0;34m)\u001b[0m\u001b[0;34m\u001b[0m\u001b[0;34m\u001b[0m\u001b[0m\n\u001b[1;32m     19\u001b[0m \u001b[0;34m\u001b[0m\u001b[0m\n\u001b[0;32m---> 20\u001b[0;31m         \u001b[0;32mwith\u001b[0m \u001b[0mnp\u001b[0m\u001b[0;34m.\u001b[0m\u001b[0mload\u001b[0m\u001b[0;34m(\u001b[0m\u001b[0mdrive_filepath\u001b[0m\u001b[0;34m)\u001b[0m \u001b[0;32mas\u001b[0m \u001b[0mdata\u001b[0m\u001b[0;34m:\u001b[0m\u001b[0;34m\u001b[0m\u001b[0;34m\u001b[0m\u001b[0m\n\u001b[0m\u001b[1;32m     21\u001b[0m             \u001b[0mnode_feats\u001b[0m \u001b[0;34m=\u001b[0m \u001b[0mtorch\u001b[0m\u001b[0;34m.\u001b[0m\u001b[0mfrom_numpy\u001b[0m\u001b[0;34m(\u001b[0m\u001b[0mdata\u001b[0m\u001b[0;34m[\u001b[0m\u001b[0;34m'node_feats'\u001b[0m\u001b[0;34m]\u001b[0m\u001b[0;34m)\u001b[0m\u001b[0;34m.\u001b[0m\u001b[0mfloat\u001b[0m\u001b[0;34m(\u001b[0m\u001b[0;34m)\u001b[0m\u001b[0;34m\u001b[0m\u001b[0;34m\u001b[0m\u001b[0m\n\u001b[1;32m     22\u001b[0m \u001b[0;34m\u001b[0m\u001b[0m\n",
            "\u001b[0;32m/usr/local/lib/python3.12/dist-packages/numpy/lib/_npyio_impl.py\u001b[0m in \u001b[0;36mload\u001b[0;34m(file, mmap_mode, allow_pickle, fix_imports, encoding, max_header_size)\u001b[0m\n\u001b[1;32m    460\u001b[0m         \u001b[0m_ZIP_SUFFIX\u001b[0m \u001b[0;34m=\u001b[0m \u001b[0;34mb'PK\\x05\\x06'\u001b[0m  \u001b[0;31m# empty zip files start with this\u001b[0m\u001b[0;34m\u001b[0m\u001b[0;34m\u001b[0m\u001b[0m\n\u001b[1;32m    461\u001b[0m         \u001b[0mN\u001b[0m \u001b[0;34m=\u001b[0m \u001b[0mlen\u001b[0m\u001b[0;34m(\u001b[0m\u001b[0mformat\u001b[0m\u001b[0;34m.\u001b[0m\u001b[0mMAGIC_PREFIX\u001b[0m\u001b[0;34m)\u001b[0m\u001b[0;34m\u001b[0m\u001b[0;34m\u001b[0m\u001b[0m\n\u001b[0;32m--> 462\u001b[0;31m         \u001b[0mmagic\u001b[0m \u001b[0;34m=\u001b[0m \u001b[0mfid\u001b[0m\u001b[0;34m.\u001b[0m\u001b[0mread\u001b[0m\u001b[0;34m(\u001b[0m\u001b[0mN\u001b[0m\u001b[0;34m)\u001b[0m\u001b[0;34m\u001b[0m\u001b[0;34m\u001b[0m\u001b[0m\n\u001b[0m\u001b[1;32m    463\u001b[0m         \u001b[0;32mif\u001b[0m \u001b[0;32mnot\u001b[0m \u001b[0mmagic\u001b[0m\u001b[0;34m:\u001b[0m\u001b[0;34m\u001b[0m\u001b[0;34m\u001b[0m\u001b[0m\n\u001b[1;32m    464\u001b[0m             \u001b[0;32mraise\u001b[0m \u001b[0mEOFError\u001b[0m\u001b[0;34m(\u001b[0m\u001b[0;34m\"No data left in file\"\u001b[0m\u001b[0;34m)\u001b[0m\u001b[0;34m\u001b[0m\u001b[0;34m\u001b[0m\u001b[0m\n",
            "\u001b[0;31mKeyboardInterrupt\u001b[0m: "
          ]
        }
      ],
      "source": [
        "print(\"\\n--- Evaluating on Test Set ---\")\n",
        "model.load_state_dict(torch.load(\"graph_sage_classifier.pth\"))\n",
        "\n",
        "test_loss, test_acc, test_preds, test_labels = evaluate(model, test_loader, criterion)\n",
        "print(f\"\\nFinal Test Accuracy: {test_acc:.4f}\")"
      ]
    },
    {
      "cell_type": "code",
      "execution_count": null,
      "id": "sZqY8MatiXMh",
      "metadata": {
        "colab": {
          "base_uri": "https://localhost:8080/",
          "height": 1000
        },
        "id": "sZqY8MatiXMh",
        "outputId": "342ed50a-1358-4538-e2a2-bdf5dc46cfe3"
      },
      "outputs": [
        {
          "name": "stdout",
          "output_type": "stream",
          "text": [
            "\n",
            "--- Classification Report ---\n",
            "                      precision    recall  f1-score   support\n",
            "\n",
            "            cracking       0.00      0.00      0.00         7\n",
            "                dirb       0.98      0.94      0.96        54\n",
            "             dnsteal       0.00      0.00      0.00         8\n",
            "      false_positive       0.98      1.00      0.99      1860\n",
            "       network_scans       0.00      0.00      0.00         4\n",
            "privilege_escalation       0.00      0.00      0.00         3\n",
            "       reverse_shell       0.00      0.00      0.00         2\n",
            "       service_scans       0.88      0.78      0.82         9\n",
            "            webshell       0.00      0.00      0.00         2\n",
            "              wpscan       0.00      0.00      0.00         3\n",
            "\n",
            "            accuracy                           0.98      1952\n",
            "           macro avg       0.28      0.27      0.28      1952\n",
            "        weighted avg       0.97      0.98      0.97      1952\n",
            "\n",
            "\n",
            "--- Confusion Matrix ---\n"
          ]
        },
        {
          "data": {
            "image/png": "[encoded data removed]",
            "text/plain": [
              "<Figure size 1000x800 with 2 Axes>"
            ]
          },
          "metadata": {},
          "output_type": "display_data"
        }
      ],
      "source": [
        "# --- Classification Report ---\n",
        "unique_labels = sorted(set(test_labels))\n",
        "report = classification_report(\n",
        "    test_labels,\n",
        "    test_preds,\n",
        "    labels=unique_labels,\n",
        "    target_names=[class_names[i] for i in unique_labels],\n",
        "    zero_division=0,\n",
        "    digits=3\n",
        ")\n",
        "print(\"\\n--- Classification Report ---\")\n",
        "print(report)\n",
        "\n",
        "# --- Confusion Matrix ---\n",
        "print(\"\\n--- Confusion Matrix ---\")\n",
        "cm = confusion_matrix(test_labels, test_preds, labels=unique_labels)\n",
        "cm_norm = cm.astype('float') / cm.sum(axis=1, keepdims=True)  # Normalize per true class\n",
        "\n",
        "fig, ax = plt.subplots(1, 2, figsize=(18, 7))\n",
        "\n",
        "# Raw confusion matrix\n",
        "sns.heatmap(\n",
        "    cm,\n",
        "    annot=True,\n",
        "    fmt='d',\n",
        "    cmap='Blues',\n",
        "    xticklabels=[class_names[i] for i in unique_labels],\n",
        "    yticklabels=[class_names[i] for i in unique_labels],\n",
        "    ax=ax[0]\n",
        ")\n",
        "ax[0].set_title(\"Raw Confusion Matrix\")\n",
        "ax[0].set_xlabel(\"Predicted Label\")\n",
        "ax[0].set_ylabel(\"True Label\")\n",
        "\n",
        "# Normalized confusion matrix\n",
        "sns.heatmap(\n",
        "    cm_norm,\n",
        "    annot=True,\n",
        "    fmt=\".2f\",\n",
        "    cmap='YlGnBu',\n",
        "    xticklabels=[class_names[i] for i in unique_labels],\n",
        "    yticklabels=[class_names[i] for i in unique_labels],\n",
        "    ax=ax[1]\n",
        ")\n",
        "ax[1].set_title(\"Normalized Confusion Matrix\")\n",
        "ax[1].set_xlabel(\"Predicted Label\")\n",
        "ax[1].set_ylabel(\"True Label\")\n",
        "\n",
        "plt.tight_layout()\n",
        "plt.show()\n"
      ]
    }
  ],
  "metadata": {
    "colab": {
      "provenance": []
    },
    "kernelspec": {
      "display_name": ".venv",
      "language": "python",
      "name": "python3"
    },
    "language_info": {
      "codemirror_mode": {
        "name": "ipython",
        "version": 3
      },
      "file_extension": ".py",
      "mimetype": "text/x-python",
      "name": "python",
      "nbconvert_exporter": "python",
      "pygments_lexer": "ipython3",
      "version": "3.12.4"
    }
  },
  "nbformat": 4,
  "nbformat_minor": 5
}
